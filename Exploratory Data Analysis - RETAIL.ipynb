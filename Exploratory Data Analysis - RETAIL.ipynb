{
 "cells": [
  {
   "cell_type": "markdown",
   "id": "c5713c40",
   "metadata": {},
   "source": [
    "# EXPLORATORY DATA ANALYSIS - RETAIL (Level : Beginner)"
   ]
  },
  {
   "cell_type": "markdown",
   "id": "82c12c75",
   "metadata": {},
   "source": [
    "### Data Science & Buisness Analytics (Graduate Rotational Internship Program)"
   ]
  },
  {
   "cell_type": "raw",
   "id": "03af2397",
   "metadata": {},
   "source": []
  },
  {
   "cell_type": "markdown",
   "id": "71f9a869",
   "metadata": {},
   "source": [
    "## TASK 1"
   ]
  },
  {
   "cell_type": "markdown",
   "id": "28429a3a",
   "metadata": {},
   "source": [
    "### Importing Libraries"
   ]
  },
  {
   "cell_type": "code",
   "execution_count": 1,
   "id": "8c5bac9c",
   "metadata": {},
   "outputs": [],
   "source": [
    "import numpy as np\n",
    "import pandas as pd\n",
    "import matplotlib as mpl\n",
    "import matplotlib.pyplot as plt\n",
    "import seaborn as sns\n",
    "%matplotlib inline"
   ]
  },
  {
   "cell_type": "markdown",
   "id": "e5e6d327",
   "metadata": {},
   "source": [
    "### Reading & Loading the dataset"
   ]
  },
  {
   "cell_type": "code",
   "execution_count": 2,
   "id": "3a63cac8",
   "metadata": {},
   "outputs": [
    {
     "data": {
      "text/html": [
       "<div>\n",
       "<style scoped>\n",
       "    .dataframe tbody tr th:only-of-type {\n",
       "        vertical-align: middle;\n",
       "    }\n",
       "\n",
       "    .dataframe tbody tr th {\n",
       "        vertical-align: top;\n",
       "    }\n",
       "\n",
       "    .dataframe thead th {\n",
       "        text-align: right;\n",
       "    }\n",
       "</style>\n",
       "<table border=\"1\" class=\"dataframe\">\n",
       "  <thead>\n",
       "    <tr style=\"text-align: right;\">\n",
       "      <th></th>\n",
       "      <th>Ship Mode</th>\n",
       "      <th>Segment</th>\n",
       "      <th>Country</th>\n",
       "      <th>City</th>\n",
       "      <th>State</th>\n",
       "      <th>Postal Code</th>\n",
       "      <th>Region</th>\n",
       "      <th>Category</th>\n",
       "      <th>Sub-Category</th>\n",
       "      <th>Sales</th>\n",
       "      <th>Quantity</th>\n",
       "      <th>Discount</th>\n",
       "      <th>Profit</th>\n",
       "    </tr>\n",
       "  </thead>\n",
       "  <tbody>\n",
       "    <tr>\n",
       "      <th>0</th>\n",
       "      <td>Second Class</td>\n",
       "      <td>Consumer</td>\n",
       "      <td>United States</td>\n",
       "      <td>Henderson</td>\n",
       "      <td>Kentucky</td>\n",
       "      <td>42420</td>\n",
       "      <td>South</td>\n",
       "      <td>Furniture</td>\n",
       "      <td>Bookcases</td>\n",
       "      <td>261.9600</td>\n",
       "      <td>2</td>\n",
       "      <td>0.00</td>\n",
       "      <td>41.9136</td>\n",
       "    </tr>\n",
       "    <tr>\n",
       "      <th>1</th>\n",
       "      <td>Second Class</td>\n",
       "      <td>Consumer</td>\n",
       "      <td>United States</td>\n",
       "      <td>Henderson</td>\n",
       "      <td>Kentucky</td>\n",
       "      <td>42420</td>\n",
       "      <td>South</td>\n",
       "      <td>Furniture</td>\n",
       "      <td>Chairs</td>\n",
       "      <td>731.9400</td>\n",
       "      <td>3</td>\n",
       "      <td>0.00</td>\n",
       "      <td>219.5820</td>\n",
       "    </tr>\n",
       "    <tr>\n",
       "      <th>2</th>\n",
       "      <td>Second Class</td>\n",
       "      <td>Corporate</td>\n",
       "      <td>United States</td>\n",
       "      <td>Los Angeles</td>\n",
       "      <td>California</td>\n",
       "      <td>90036</td>\n",
       "      <td>West</td>\n",
       "      <td>Office Supplies</td>\n",
       "      <td>Labels</td>\n",
       "      <td>14.6200</td>\n",
       "      <td>2</td>\n",
       "      <td>0.00</td>\n",
       "      <td>6.8714</td>\n",
       "    </tr>\n",
       "    <tr>\n",
       "      <th>3</th>\n",
       "      <td>Standard Class</td>\n",
       "      <td>Consumer</td>\n",
       "      <td>United States</td>\n",
       "      <td>Fort Lauderdale</td>\n",
       "      <td>Florida</td>\n",
       "      <td>33311</td>\n",
       "      <td>South</td>\n",
       "      <td>Furniture</td>\n",
       "      <td>Tables</td>\n",
       "      <td>957.5775</td>\n",
       "      <td>5</td>\n",
       "      <td>0.45</td>\n",
       "      <td>-383.0310</td>\n",
       "    </tr>\n",
       "    <tr>\n",
       "      <th>4</th>\n",
       "      <td>Standard Class</td>\n",
       "      <td>Consumer</td>\n",
       "      <td>United States</td>\n",
       "      <td>Fort Lauderdale</td>\n",
       "      <td>Florida</td>\n",
       "      <td>33311</td>\n",
       "      <td>South</td>\n",
       "      <td>Office Supplies</td>\n",
       "      <td>Storage</td>\n",
       "      <td>22.3680</td>\n",
       "      <td>2</td>\n",
       "      <td>0.20</td>\n",
       "      <td>2.5164</td>\n",
       "    </tr>\n",
       "    <tr>\n",
       "      <th>5</th>\n",
       "      <td>Standard Class</td>\n",
       "      <td>Consumer</td>\n",
       "      <td>United States</td>\n",
       "      <td>Los Angeles</td>\n",
       "      <td>California</td>\n",
       "      <td>90032</td>\n",
       "      <td>West</td>\n",
       "      <td>Furniture</td>\n",
       "      <td>Furnishings</td>\n",
       "      <td>48.8600</td>\n",
       "      <td>7</td>\n",
       "      <td>0.00</td>\n",
       "      <td>14.1694</td>\n",
       "    </tr>\n",
       "    <tr>\n",
       "      <th>6</th>\n",
       "      <td>Standard Class</td>\n",
       "      <td>Consumer</td>\n",
       "      <td>United States</td>\n",
       "      <td>Los Angeles</td>\n",
       "      <td>California</td>\n",
       "      <td>90032</td>\n",
       "      <td>West</td>\n",
       "      <td>Office Supplies</td>\n",
       "      <td>Art</td>\n",
       "      <td>7.2800</td>\n",
       "      <td>4</td>\n",
       "      <td>0.00</td>\n",
       "      <td>1.9656</td>\n",
       "    </tr>\n",
       "    <tr>\n",
       "      <th>7</th>\n",
       "      <td>Standard Class</td>\n",
       "      <td>Consumer</td>\n",
       "      <td>United States</td>\n",
       "      <td>Los Angeles</td>\n",
       "      <td>California</td>\n",
       "      <td>90032</td>\n",
       "      <td>West</td>\n",
       "      <td>Technology</td>\n",
       "      <td>Phones</td>\n",
       "      <td>907.1520</td>\n",
       "      <td>6</td>\n",
       "      <td>0.20</td>\n",
       "      <td>90.7152</td>\n",
       "    </tr>\n",
       "    <tr>\n",
       "      <th>8</th>\n",
       "      <td>Standard Class</td>\n",
       "      <td>Consumer</td>\n",
       "      <td>United States</td>\n",
       "      <td>Los Angeles</td>\n",
       "      <td>California</td>\n",
       "      <td>90032</td>\n",
       "      <td>West</td>\n",
       "      <td>Office Supplies</td>\n",
       "      <td>Binders</td>\n",
       "      <td>18.5040</td>\n",
       "      <td>3</td>\n",
       "      <td>0.20</td>\n",
       "      <td>5.7825</td>\n",
       "    </tr>\n",
       "    <tr>\n",
       "      <th>9</th>\n",
       "      <td>Standard Class</td>\n",
       "      <td>Consumer</td>\n",
       "      <td>United States</td>\n",
       "      <td>Los Angeles</td>\n",
       "      <td>California</td>\n",
       "      <td>90032</td>\n",
       "      <td>West</td>\n",
       "      <td>Office Supplies</td>\n",
       "      <td>Appliances</td>\n",
       "      <td>114.9000</td>\n",
       "      <td>5</td>\n",
       "      <td>0.00</td>\n",
       "      <td>34.4700</td>\n",
       "    </tr>\n",
       "  </tbody>\n",
       "</table>\n",
       "</div>"
      ],
      "text/plain": [
       "        Ship Mode    Segment        Country             City       State  \\\n",
       "0    Second Class   Consumer  United States        Henderson    Kentucky   \n",
       "1    Second Class   Consumer  United States        Henderson    Kentucky   \n",
       "2    Second Class  Corporate  United States      Los Angeles  California   \n",
       "3  Standard Class   Consumer  United States  Fort Lauderdale     Florida   \n",
       "4  Standard Class   Consumer  United States  Fort Lauderdale     Florida   \n",
       "5  Standard Class   Consumer  United States      Los Angeles  California   \n",
       "6  Standard Class   Consumer  United States      Los Angeles  California   \n",
       "7  Standard Class   Consumer  United States      Los Angeles  California   \n",
       "8  Standard Class   Consumer  United States      Los Angeles  California   \n",
       "9  Standard Class   Consumer  United States      Los Angeles  California   \n",
       "\n",
       "   Postal Code Region         Category Sub-Category     Sales  Quantity  \\\n",
       "0        42420  South        Furniture    Bookcases  261.9600         2   \n",
       "1        42420  South        Furniture       Chairs  731.9400         3   \n",
       "2        90036   West  Office Supplies       Labels   14.6200         2   \n",
       "3        33311  South        Furniture       Tables  957.5775         5   \n",
       "4        33311  South  Office Supplies      Storage   22.3680         2   \n",
       "5        90032   West        Furniture  Furnishings   48.8600         7   \n",
       "6        90032   West  Office Supplies          Art    7.2800         4   \n",
       "7        90032   West       Technology       Phones  907.1520         6   \n",
       "8        90032   West  Office Supplies      Binders   18.5040         3   \n",
       "9        90032   West  Office Supplies   Appliances  114.9000         5   \n",
       "\n",
       "   Discount    Profit  \n",
       "0      0.00   41.9136  \n",
       "1      0.00  219.5820  \n",
       "2      0.00    6.8714  \n",
       "3      0.45 -383.0310  \n",
       "4      0.20    2.5164  \n",
       "5      0.00   14.1694  \n",
       "6      0.00    1.9656  \n",
       "7      0.20   90.7152  \n",
       "8      0.20    5.7825  \n",
       "9      0.00   34.4700  "
      ]
     },
     "execution_count": 2,
     "metadata": {},
     "output_type": "execute_result"
    }
   ],
   "source": [
    "# reading the csv file\n",
    "data = pd.read_csv('SampleSuperstore.csv')\n",
    "\n",
    "# to display the first 10 rows\n",
    "data.head(10)"
   ]
  },
  {
   "cell_type": "code",
   "execution_count": 3,
   "id": "2cbfe5f2",
   "metadata": {},
   "outputs": [
    {
     "data": {
      "text/html": [
       "<div>\n",
       "<style scoped>\n",
       "    .dataframe tbody tr th:only-of-type {\n",
       "        vertical-align: middle;\n",
       "    }\n",
       "\n",
       "    .dataframe tbody tr th {\n",
       "        vertical-align: top;\n",
       "    }\n",
       "\n",
       "    .dataframe thead th {\n",
       "        text-align: right;\n",
       "    }\n",
       "</style>\n",
       "<table border=\"1\" class=\"dataframe\">\n",
       "  <thead>\n",
       "    <tr style=\"text-align: right;\">\n",
       "      <th></th>\n",
       "      <th>Ship Mode</th>\n",
       "      <th>Segment</th>\n",
       "      <th>Country</th>\n",
       "      <th>City</th>\n",
       "      <th>State</th>\n",
       "      <th>Postal Code</th>\n",
       "      <th>Region</th>\n",
       "      <th>Category</th>\n",
       "      <th>Sub-Category</th>\n",
       "      <th>Sales</th>\n",
       "      <th>Quantity</th>\n",
       "      <th>Discount</th>\n",
       "      <th>Profit</th>\n",
       "    </tr>\n",
       "  </thead>\n",
       "  <tbody>\n",
       "    <tr>\n",
       "      <th>9984</th>\n",
       "      <td>Standard Class</td>\n",
       "      <td>Consumer</td>\n",
       "      <td>United States</td>\n",
       "      <td>Long Beach</td>\n",
       "      <td>New York</td>\n",
       "      <td>11561</td>\n",
       "      <td>East</td>\n",
       "      <td>Office Supplies</td>\n",
       "      <td>Labels</td>\n",
       "      <td>31.500</td>\n",
       "      <td>10</td>\n",
       "      <td>0.0</td>\n",
       "      <td>15.1200</td>\n",
       "    </tr>\n",
       "    <tr>\n",
       "      <th>9985</th>\n",
       "      <td>Standard Class</td>\n",
       "      <td>Consumer</td>\n",
       "      <td>United States</td>\n",
       "      <td>Long Beach</td>\n",
       "      <td>New York</td>\n",
       "      <td>11561</td>\n",
       "      <td>East</td>\n",
       "      <td>Office Supplies</td>\n",
       "      <td>Supplies</td>\n",
       "      <td>55.600</td>\n",
       "      <td>4</td>\n",
       "      <td>0.0</td>\n",
       "      <td>16.1240</td>\n",
       "    </tr>\n",
       "    <tr>\n",
       "      <th>9986</th>\n",
       "      <td>Standard Class</td>\n",
       "      <td>Consumer</td>\n",
       "      <td>United States</td>\n",
       "      <td>Los Angeles</td>\n",
       "      <td>California</td>\n",
       "      <td>90008</td>\n",
       "      <td>West</td>\n",
       "      <td>Technology</td>\n",
       "      <td>Accessories</td>\n",
       "      <td>36.240</td>\n",
       "      <td>1</td>\n",
       "      <td>0.0</td>\n",
       "      <td>15.2208</td>\n",
       "    </tr>\n",
       "    <tr>\n",
       "      <th>9987</th>\n",
       "      <td>Standard Class</td>\n",
       "      <td>Corporate</td>\n",
       "      <td>United States</td>\n",
       "      <td>Athens</td>\n",
       "      <td>Georgia</td>\n",
       "      <td>30605</td>\n",
       "      <td>South</td>\n",
       "      <td>Technology</td>\n",
       "      <td>Accessories</td>\n",
       "      <td>79.990</td>\n",
       "      <td>1</td>\n",
       "      <td>0.0</td>\n",
       "      <td>28.7964</td>\n",
       "    </tr>\n",
       "    <tr>\n",
       "      <th>9988</th>\n",
       "      <td>Standard Class</td>\n",
       "      <td>Corporate</td>\n",
       "      <td>United States</td>\n",
       "      <td>Athens</td>\n",
       "      <td>Georgia</td>\n",
       "      <td>30605</td>\n",
       "      <td>South</td>\n",
       "      <td>Technology</td>\n",
       "      <td>Phones</td>\n",
       "      <td>206.100</td>\n",
       "      <td>5</td>\n",
       "      <td>0.0</td>\n",
       "      <td>55.6470</td>\n",
       "    </tr>\n",
       "    <tr>\n",
       "      <th>9989</th>\n",
       "      <td>Second Class</td>\n",
       "      <td>Consumer</td>\n",
       "      <td>United States</td>\n",
       "      <td>Miami</td>\n",
       "      <td>Florida</td>\n",
       "      <td>33180</td>\n",
       "      <td>South</td>\n",
       "      <td>Furniture</td>\n",
       "      <td>Furnishings</td>\n",
       "      <td>25.248</td>\n",
       "      <td>3</td>\n",
       "      <td>0.2</td>\n",
       "      <td>4.1028</td>\n",
       "    </tr>\n",
       "    <tr>\n",
       "      <th>9990</th>\n",
       "      <td>Standard Class</td>\n",
       "      <td>Consumer</td>\n",
       "      <td>United States</td>\n",
       "      <td>Costa Mesa</td>\n",
       "      <td>California</td>\n",
       "      <td>92627</td>\n",
       "      <td>West</td>\n",
       "      <td>Furniture</td>\n",
       "      <td>Furnishings</td>\n",
       "      <td>91.960</td>\n",
       "      <td>2</td>\n",
       "      <td>0.0</td>\n",
       "      <td>15.6332</td>\n",
       "    </tr>\n",
       "    <tr>\n",
       "      <th>9991</th>\n",
       "      <td>Standard Class</td>\n",
       "      <td>Consumer</td>\n",
       "      <td>United States</td>\n",
       "      <td>Costa Mesa</td>\n",
       "      <td>California</td>\n",
       "      <td>92627</td>\n",
       "      <td>West</td>\n",
       "      <td>Technology</td>\n",
       "      <td>Phones</td>\n",
       "      <td>258.576</td>\n",
       "      <td>2</td>\n",
       "      <td>0.2</td>\n",
       "      <td>19.3932</td>\n",
       "    </tr>\n",
       "    <tr>\n",
       "      <th>9992</th>\n",
       "      <td>Standard Class</td>\n",
       "      <td>Consumer</td>\n",
       "      <td>United States</td>\n",
       "      <td>Costa Mesa</td>\n",
       "      <td>California</td>\n",
       "      <td>92627</td>\n",
       "      <td>West</td>\n",
       "      <td>Office Supplies</td>\n",
       "      <td>Paper</td>\n",
       "      <td>29.600</td>\n",
       "      <td>4</td>\n",
       "      <td>0.0</td>\n",
       "      <td>13.3200</td>\n",
       "    </tr>\n",
       "    <tr>\n",
       "      <th>9993</th>\n",
       "      <td>Second Class</td>\n",
       "      <td>Consumer</td>\n",
       "      <td>United States</td>\n",
       "      <td>Westminster</td>\n",
       "      <td>California</td>\n",
       "      <td>92683</td>\n",
       "      <td>West</td>\n",
       "      <td>Office Supplies</td>\n",
       "      <td>Appliances</td>\n",
       "      <td>243.160</td>\n",
       "      <td>2</td>\n",
       "      <td>0.0</td>\n",
       "      <td>72.9480</td>\n",
       "    </tr>\n",
       "  </tbody>\n",
       "</table>\n",
       "</div>"
      ],
      "text/plain": [
       "           Ship Mode    Segment        Country         City       State  \\\n",
       "9984  Standard Class   Consumer  United States   Long Beach    New York   \n",
       "9985  Standard Class   Consumer  United States   Long Beach    New York   \n",
       "9986  Standard Class   Consumer  United States  Los Angeles  California   \n",
       "9987  Standard Class  Corporate  United States       Athens     Georgia   \n",
       "9988  Standard Class  Corporate  United States       Athens     Georgia   \n",
       "9989    Second Class   Consumer  United States        Miami     Florida   \n",
       "9990  Standard Class   Consumer  United States   Costa Mesa  California   \n",
       "9991  Standard Class   Consumer  United States   Costa Mesa  California   \n",
       "9992  Standard Class   Consumer  United States   Costa Mesa  California   \n",
       "9993    Second Class   Consumer  United States  Westminster  California   \n",
       "\n",
       "      Postal Code Region         Category Sub-Category    Sales  Quantity  \\\n",
       "9984        11561   East  Office Supplies       Labels   31.500        10   \n",
       "9985        11561   East  Office Supplies     Supplies   55.600         4   \n",
       "9986        90008   West       Technology  Accessories   36.240         1   \n",
       "9987        30605  South       Technology  Accessories   79.990         1   \n",
       "9988        30605  South       Technology       Phones  206.100         5   \n",
       "9989        33180  South        Furniture  Furnishings   25.248         3   \n",
       "9990        92627   West        Furniture  Furnishings   91.960         2   \n",
       "9991        92627   West       Technology       Phones  258.576         2   \n",
       "9992        92627   West  Office Supplies        Paper   29.600         4   \n",
       "9993        92683   West  Office Supplies   Appliances  243.160         2   \n",
       "\n",
       "      Discount   Profit  \n",
       "9984       0.0  15.1200  \n",
       "9985       0.0  16.1240  \n",
       "9986       0.0  15.2208  \n",
       "9987       0.0  28.7964  \n",
       "9988       0.0  55.6470  \n",
       "9989       0.2   4.1028  \n",
       "9990       0.0  15.6332  \n",
       "9991       0.2  19.3932  \n",
       "9992       0.0  13.3200  \n",
       "9993       0.0  72.9480  "
      ]
     },
     "execution_count": 3,
     "metadata": {},
     "output_type": "execute_result"
    }
   ],
   "source": [
    "# to display the last 10 rows\n",
    "data.tail(10)"
   ]
  },
  {
   "cell_type": "code",
   "execution_count": 4,
   "id": "05e6c880",
   "metadata": {},
   "outputs": [
    {
     "name": "stdout",
     "output_type": "stream",
     "text": [
      "(9994, 13)\n"
     ]
    }
   ],
   "source": [
    "# checking the dimensions of the data\n",
    "print(data.shape)"
   ]
  },
  {
   "cell_type": "raw",
   "id": "e536dce5",
   "metadata": {},
   "source": [
    "So, we have total of 9994 rows and 13 columns in this dataset."
   ]
  },
  {
   "cell_type": "code",
   "execution_count": 5,
   "id": "8dab69d0",
   "metadata": {},
   "outputs": [
    {
     "data": {
      "text/plain": [
       "Ship Mode        object\n",
       "Segment          object\n",
       "Country          object\n",
       "City             object\n",
       "State            object\n",
       "Postal Code       int64\n",
       "Region           object\n",
       "Category         object\n",
       "Sub-Category     object\n",
       "Sales           float64\n",
       "Quantity          int64\n",
       "Discount        float64\n",
       "Profit          float64\n",
       "dtype: object"
      ]
     },
     "execution_count": 5,
     "metadata": {},
     "output_type": "execute_result"
    }
   ],
   "source": [
    "# checking the datatypes present\n",
    "data.dtypes"
   ]
  },
  {
   "cell_type": "code",
   "execution_count": 7,
   "id": "fa7a27c8",
   "metadata": {},
   "outputs": [
    {
     "data": {
      "text/plain": [
       "Ship Mode       0\n",
       "Segment         0\n",
       "Country         0\n",
       "City            0\n",
       "State           0\n",
       "Postal Code     0\n",
       "Region          0\n",
       "Category        0\n",
       "Sub-Category    0\n",
       "Sales           0\n",
       "Quantity        0\n",
       "Discount        0\n",
       "Profit          0\n",
       "dtype: int64"
      ]
     },
     "execution_count": 7,
     "metadata": {},
     "output_type": "execute_result"
    }
   ],
   "source": [
    "# checking if there is any null values present\n",
    "data.isnull().sum()"
   ]
  },
  {
   "cell_type": "raw",
   "id": "3a360855",
   "metadata": {},
   "source": [
    "As we can see that, there is no null values in the dataset."
   ]
  },
  {
   "cell_type": "code",
   "execution_count": 6,
   "id": "cf87e2ed",
   "metadata": {},
   "outputs": [
    {
     "name": "stdout",
     "output_type": "stream",
     "text": [
      "<class 'pandas.core.frame.DataFrame'>\n",
      "RangeIndex: 9994 entries, 0 to 9993\n",
      "Data columns (total 13 columns):\n",
      " #   Column        Non-Null Count  Dtype  \n",
      "---  ------        --------------  -----  \n",
      " 0   Ship Mode     9994 non-null   object \n",
      " 1   Segment       9994 non-null   object \n",
      " 2   Country       9994 non-null   object \n",
      " 3   City          9994 non-null   object \n",
      " 4   State         9994 non-null   object \n",
      " 5   Postal Code   9994 non-null   int64  \n",
      " 6   Region        9994 non-null   object \n",
      " 7   Category      9994 non-null   object \n",
      " 8   Sub-Category  9994 non-null   object \n",
      " 9   Sales         9994 non-null   float64\n",
      " 10  Quantity      9994 non-null   int64  \n",
      " 11  Discount      9994 non-null   float64\n",
      " 12  Profit        9994 non-null   float64\n",
      "dtypes: float64(3), int64(2), object(8)\n",
      "memory usage: 1015.1+ KB\n"
     ]
    }
   ],
   "source": [
    "# gives the overall information about the dataset\n",
    "data.info()"
   ]
  },
  {
   "cell_type": "code",
   "execution_count": 8,
   "id": "b5d1e409",
   "metadata": {},
   "outputs": [
    {
     "data": {
      "text/plain": [
       "Ship Mode          4\n",
       "Segment            3\n",
       "Country            1\n",
       "City             531\n",
       "State             49\n",
       "Postal Code      631\n",
       "Region             4\n",
       "Category           3\n",
       "Sub-Category      17\n",
       "Sales           5825\n",
       "Quantity          14\n",
       "Discount          12\n",
       "Profit          7287\n",
       "dtype: int64"
      ]
     },
     "execution_count": 8,
     "metadata": {},
     "output_type": "execute_result"
    }
   ],
   "source": [
    "# checking no of unique values from each columns\n",
    "data.nunique()"
   ]
  },
  {
   "cell_type": "code",
   "execution_count": 9,
   "id": "d1bf7ec6",
   "metadata": {},
   "outputs": [
    {
     "data": {
      "text/html": [
       "<div>\n",
       "<style scoped>\n",
       "    .dataframe tbody tr th:only-of-type {\n",
       "        vertical-align: middle;\n",
       "    }\n",
       "\n",
       "    .dataframe tbody tr th {\n",
       "        vertical-align: top;\n",
       "    }\n",
       "\n",
       "    .dataframe thead th {\n",
       "        text-align: right;\n",
       "    }\n",
       "</style>\n",
       "<table border=\"1\" class=\"dataframe\">\n",
       "  <thead>\n",
       "    <tr style=\"text-align: right;\">\n",
       "      <th></th>\n",
       "      <th>Postal Code</th>\n",
       "      <th>Sales</th>\n",
       "      <th>Quantity</th>\n",
       "      <th>Discount</th>\n",
       "      <th>Profit</th>\n",
       "    </tr>\n",
       "  </thead>\n",
       "  <tbody>\n",
       "    <tr>\n",
       "      <th>count</th>\n",
       "      <td>9994.000000</td>\n",
       "      <td>9994.000000</td>\n",
       "      <td>9994.000000</td>\n",
       "      <td>9994.000000</td>\n",
       "      <td>9994.000000</td>\n",
       "    </tr>\n",
       "    <tr>\n",
       "      <th>mean</th>\n",
       "      <td>55190.379428</td>\n",
       "      <td>229.858001</td>\n",
       "      <td>3.789574</td>\n",
       "      <td>0.156203</td>\n",
       "      <td>28.656896</td>\n",
       "    </tr>\n",
       "    <tr>\n",
       "      <th>std</th>\n",
       "      <td>32063.693350</td>\n",
       "      <td>623.245101</td>\n",
       "      <td>2.225110</td>\n",
       "      <td>0.206452</td>\n",
       "      <td>234.260108</td>\n",
       "    </tr>\n",
       "    <tr>\n",
       "      <th>min</th>\n",
       "      <td>1040.000000</td>\n",
       "      <td>0.444000</td>\n",
       "      <td>1.000000</td>\n",
       "      <td>0.000000</td>\n",
       "      <td>-6599.978000</td>\n",
       "    </tr>\n",
       "    <tr>\n",
       "      <th>25%</th>\n",
       "      <td>23223.000000</td>\n",
       "      <td>17.280000</td>\n",
       "      <td>2.000000</td>\n",
       "      <td>0.000000</td>\n",
       "      <td>1.728750</td>\n",
       "    </tr>\n",
       "    <tr>\n",
       "      <th>50%</th>\n",
       "      <td>56430.500000</td>\n",
       "      <td>54.490000</td>\n",
       "      <td>3.000000</td>\n",
       "      <td>0.200000</td>\n",
       "      <td>8.666500</td>\n",
       "    </tr>\n",
       "    <tr>\n",
       "      <th>75%</th>\n",
       "      <td>90008.000000</td>\n",
       "      <td>209.940000</td>\n",
       "      <td>5.000000</td>\n",
       "      <td>0.200000</td>\n",
       "      <td>29.364000</td>\n",
       "    </tr>\n",
       "    <tr>\n",
       "      <th>max</th>\n",
       "      <td>99301.000000</td>\n",
       "      <td>22638.480000</td>\n",
       "      <td>14.000000</td>\n",
       "      <td>0.800000</td>\n",
       "      <td>8399.976000</td>\n",
       "    </tr>\n",
       "  </tbody>\n",
       "</table>\n",
       "</div>"
      ],
      "text/plain": [
       "        Postal Code         Sales     Quantity     Discount       Profit\n",
       "count   9994.000000   9994.000000  9994.000000  9994.000000  9994.000000\n",
       "mean   55190.379428    229.858001     3.789574     0.156203    28.656896\n",
       "std    32063.693350    623.245101     2.225110     0.206452   234.260108\n",
       "min     1040.000000      0.444000     1.000000     0.000000 -6599.978000\n",
       "25%    23223.000000     17.280000     2.000000     0.000000     1.728750\n",
       "50%    56430.500000     54.490000     3.000000     0.200000     8.666500\n",
       "75%    90008.000000    209.940000     5.000000     0.200000    29.364000\n",
       "max    99301.000000  22638.480000    14.000000     0.800000  8399.976000"
      ]
     },
     "execution_count": 9,
     "metadata": {},
     "output_type": "execute_result"
    }
   ],
   "source": [
    "# statistical details of numeric values\n",
    "data.describe()"
   ]
  },
  {
   "cell_type": "raw",
   "id": "77b025eb",
   "metadata": {},
   "source": [
    "Maximun profit is 8399.976000 but minimum profit is -6599.978000 which means we are not having much profit."
   ]
  },
  {
   "cell_type": "markdown",
   "id": "85ffb0b5",
   "metadata": {},
   "source": [
    "### Data Manipulation"
   ]
  },
  {
   "cell_type": "code",
   "execution_count": 10,
   "id": "30e2eb4c",
   "metadata": {},
   "outputs": [
    {
     "data": {
      "text/html": [
       "<div>\n",
       "<style scoped>\n",
       "    .dataframe tbody tr th:only-of-type {\n",
       "        vertical-align: middle;\n",
       "    }\n",
       "\n",
       "    .dataframe tbody tr th {\n",
       "        vertical-align: top;\n",
       "    }\n",
       "\n",
       "    .dataframe thead th {\n",
       "        text-align: right;\n",
       "    }\n",
       "</style>\n",
       "<table border=\"1\" class=\"dataframe\">\n",
       "  <thead>\n",
       "    <tr style=\"text-align: right;\">\n",
       "      <th></th>\n",
       "      <th>Ship Mode</th>\n",
       "      <th>Segment</th>\n",
       "      <th>City</th>\n",
       "      <th>State</th>\n",
       "      <th>Region</th>\n",
       "      <th>Category</th>\n",
       "      <th>Sub-Category</th>\n",
       "      <th>Sales</th>\n",
       "      <th>Quantity</th>\n",
       "      <th>Discount</th>\n",
       "      <th>Profit</th>\n",
       "    </tr>\n",
       "  </thead>\n",
       "  <tbody>\n",
       "    <tr>\n",
       "      <th>0</th>\n",
       "      <td>Second Class</td>\n",
       "      <td>Consumer</td>\n",
       "      <td>Henderson</td>\n",
       "      <td>Kentucky</td>\n",
       "      <td>South</td>\n",
       "      <td>Furniture</td>\n",
       "      <td>Bookcases</td>\n",
       "      <td>261.9600</td>\n",
       "      <td>2</td>\n",
       "      <td>0.00</td>\n",
       "      <td>41.9136</td>\n",
       "    </tr>\n",
       "    <tr>\n",
       "      <th>1</th>\n",
       "      <td>Second Class</td>\n",
       "      <td>Consumer</td>\n",
       "      <td>Henderson</td>\n",
       "      <td>Kentucky</td>\n",
       "      <td>South</td>\n",
       "      <td>Furniture</td>\n",
       "      <td>Chairs</td>\n",
       "      <td>731.9400</td>\n",
       "      <td>3</td>\n",
       "      <td>0.00</td>\n",
       "      <td>219.5820</td>\n",
       "    </tr>\n",
       "    <tr>\n",
       "      <th>2</th>\n",
       "      <td>Second Class</td>\n",
       "      <td>Corporate</td>\n",
       "      <td>Los Angeles</td>\n",
       "      <td>California</td>\n",
       "      <td>West</td>\n",
       "      <td>Office Supplies</td>\n",
       "      <td>Labels</td>\n",
       "      <td>14.6200</td>\n",
       "      <td>2</td>\n",
       "      <td>0.00</td>\n",
       "      <td>6.8714</td>\n",
       "    </tr>\n",
       "    <tr>\n",
       "      <th>3</th>\n",
       "      <td>Standard Class</td>\n",
       "      <td>Consumer</td>\n",
       "      <td>Fort Lauderdale</td>\n",
       "      <td>Florida</td>\n",
       "      <td>South</td>\n",
       "      <td>Furniture</td>\n",
       "      <td>Tables</td>\n",
       "      <td>957.5775</td>\n",
       "      <td>5</td>\n",
       "      <td>0.45</td>\n",
       "      <td>-383.0310</td>\n",
       "    </tr>\n",
       "    <tr>\n",
       "      <th>4</th>\n",
       "      <td>Standard Class</td>\n",
       "      <td>Consumer</td>\n",
       "      <td>Fort Lauderdale</td>\n",
       "      <td>Florida</td>\n",
       "      <td>South</td>\n",
       "      <td>Office Supplies</td>\n",
       "      <td>Storage</td>\n",
       "      <td>22.3680</td>\n",
       "      <td>2</td>\n",
       "      <td>0.20</td>\n",
       "      <td>2.5164</td>\n",
       "    </tr>\n",
       "  </tbody>\n",
       "</table>\n",
       "</div>"
      ],
      "text/plain": [
       "        Ship Mode    Segment             City       State Region  \\\n",
       "0    Second Class   Consumer        Henderson    Kentucky  South   \n",
       "1    Second Class   Consumer        Henderson    Kentucky  South   \n",
       "2    Second Class  Corporate      Los Angeles  California   West   \n",
       "3  Standard Class   Consumer  Fort Lauderdale     Florida  South   \n",
       "4  Standard Class   Consumer  Fort Lauderdale     Florida  South   \n",
       "\n",
       "          Category Sub-Category     Sales  Quantity  Discount    Profit  \n",
       "0        Furniture    Bookcases  261.9600         2      0.00   41.9136  \n",
       "1        Furniture       Chairs  731.9400         3      0.00  219.5820  \n",
       "2  Office Supplies       Labels   14.6200         2      0.00    6.8714  \n",
       "3        Furniture       Tables  957.5775         5      0.45 -383.0310  \n",
       "4  Office Supplies      Storage   22.3680         2      0.20    2.5164  "
      ]
     },
     "execution_count": 10,
     "metadata": {},
     "output_type": "execute_result"
    }
   ],
   "source": [
    "# dropping irrelevant columns\n",
    "data.drop(['Country' , 'Postal Code'] , axis = 1 , inplace = True)\n",
    "data.head(5)"
   ]
  },
  {
   "cell_type": "code",
   "execution_count": 11,
   "id": "d1feaf62",
   "metadata": {},
   "outputs": [
    {
     "data": {
      "text/plain": [
       "50"
      ]
     },
     "execution_count": 11,
     "metadata": {},
     "output_type": "execute_result"
    }
   ],
   "source": [
    "# checking if there is any duplicates present in the rows\n",
    "data.duplicated().sum()"
   ]
  },
  {
   "cell_type": "code",
   "execution_count": 12,
   "id": "522ea988",
   "metadata": {},
   "outputs": [
    {
     "data": {
      "text/html": [
       "<div>\n",
       "<style scoped>\n",
       "    .dataframe tbody tr th:only-of-type {\n",
       "        vertical-align: middle;\n",
       "    }\n",
       "\n",
       "    .dataframe tbody tr th {\n",
       "        vertical-align: top;\n",
       "    }\n",
       "\n",
       "    .dataframe thead th {\n",
       "        text-align: right;\n",
       "    }\n",
       "</style>\n",
       "<table border=\"1\" class=\"dataframe\">\n",
       "  <thead>\n",
       "    <tr style=\"text-align: right;\">\n",
       "      <th></th>\n",
       "      <th>Ship Mode</th>\n",
       "      <th>Segment</th>\n",
       "      <th>City</th>\n",
       "      <th>State</th>\n",
       "      <th>Region</th>\n",
       "      <th>Category</th>\n",
       "      <th>Sub-Category</th>\n",
       "      <th>Sales</th>\n",
       "      <th>Quantity</th>\n",
       "      <th>Discount</th>\n",
       "      <th>Profit</th>\n",
       "    </tr>\n",
       "  </thead>\n",
       "  <tbody>\n",
       "    <tr>\n",
       "      <th>0</th>\n",
       "      <td>Second Class</td>\n",
       "      <td>Consumer</td>\n",
       "      <td>Henderson</td>\n",
       "      <td>Kentucky</td>\n",
       "      <td>South</td>\n",
       "      <td>Furniture</td>\n",
       "      <td>Bookcases</td>\n",
       "      <td>261.9600</td>\n",
       "      <td>2</td>\n",
       "      <td>0.00</td>\n",
       "      <td>41.9136</td>\n",
       "    </tr>\n",
       "    <tr>\n",
       "      <th>1</th>\n",
       "      <td>Second Class</td>\n",
       "      <td>Consumer</td>\n",
       "      <td>Henderson</td>\n",
       "      <td>Kentucky</td>\n",
       "      <td>South</td>\n",
       "      <td>Furniture</td>\n",
       "      <td>Chairs</td>\n",
       "      <td>731.9400</td>\n",
       "      <td>3</td>\n",
       "      <td>0.00</td>\n",
       "      <td>219.5820</td>\n",
       "    </tr>\n",
       "    <tr>\n",
       "      <th>2</th>\n",
       "      <td>Second Class</td>\n",
       "      <td>Corporate</td>\n",
       "      <td>Los Angeles</td>\n",
       "      <td>California</td>\n",
       "      <td>West</td>\n",
       "      <td>Office Supplies</td>\n",
       "      <td>Labels</td>\n",
       "      <td>14.6200</td>\n",
       "      <td>2</td>\n",
       "      <td>0.00</td>\n",
       "      <td>6.8714</td>\n",
       "    </tr>\n",
       "    <tr>\n",
       "      <th>3</th>\n",
       "      <td>Standard Class</td>\n",
       "      <td>Consumer</td>\n",
       "      <td>Fort Lauderdale</td>\n",
       "      <td>Florida</td>\n",
       "      <td>South</td>\n",
       "      <td>Furniture</td>\n",
       "      <td>Tables</td>\n",
       "      <td>957.5775</td>\n",
       "      <td>5</td>\n",
       "      <td>0.45</td>\n",
       "      <td>-383.0310</td>\n",
       "    </tr>\n",
       "    <tr>\n",
       "      <th>4</th>\n",
       "      <td>Standard Class</td>\n",
       "      <td>Consumer</td>\n",
       "      <td>Fort Lauderdale</td>\n",
       "      <td>Florida</td>\n",
       "      <td>South</td>\n",
       "      <td>Office Supplies</td>\n",
       "      <td>Storage</td>\n",
       "      <td>22.3680</td>\n",
       "      <td>2</td>\n",
       "      <td>0.20</td>\n",
       "      <td>2.5164</td>\n",
       "    </tr>\n",
       "    <tr>\n",
       "      <th>...</th>\n",
       "      <td>...</td>\n",
       "      <td>...</td>\n",
       "      <td>...</td>\n",
       "      <td>...</td>\n",
       "      <td>...</td>\n",
       "      <td>...</td>\n",
       "      <td>...</td>\n",
       "      <td>...</td>\n",
       "      <td>...</td>\n",
       "      <td>...</td>\n",
       "      <td>...</td>\n",
       "    </tr>\n",
       "    <tr>\n",
       "      <th>9989</th>\n",
       "      <td>Second Class</td>\n",
       "      <td>Consumer</td>\n",
       "      <td>Miami</td>\n",
       "      <td>Florida</td>\n",
       "      <td>South</td>\n",
       "      <td>Furniture</td>\n",
       "      <td>Furnishings</td>\n",
       "      <td>25.2480</td>\n",
       "      <td>3</td>\n",
       "      <td>0.20</td>\n",
       "      <td>4.1028</td>\n",
       "    </tr>\n",
       "    <tr>\n",
       "      <th>9990</th>\n",
       "      <td>Standard Class</td>\n",
       "      <td>Consumer</td>\n",
       "      <td>Costa Mesa</td>\n",
       "      <td>California</td>\n",
       "      <td>West</td>\n",
       "      <td>Furniture</td>\n",
       "      <td>Furnishings</td>\n",
       "      <td>91.9600</td>\n",
       "      <td>2</td>\n",
       "      <td>0.00</td>\n",
       "      <td>15.6332</td>\n",
       "    </tr>\n",
       "    <tr>\n",
       "      <th>9991</th>\n",
       "      <td>Standard Class</td>\n",
       "      <td>Consumer</td>\n",
       "      <td>Costa Mesa</td>\n",
       "      <td>California</td>\n",
       "      <td>West</td>\n",
       "      <td>Technology</td>\n",
       "      <td>Phones</td>\n",
       "      <td>258.5760</td>\n",
       "      <td>2</td>\n",
       "      <td>0.20</td>\n",
       "      <td>19.3932</td>\n",
       "    </tr>\n",
       "    <tr>\n",
       "      <th>9992</th>\n",
       "      <td>Standard Class</td>\n",
       "      <td>Consumer</td>\n",
       "      <td>Costa Mesa</td>\n",
       "      <td>California</td>\n",
       "      <td>West</td>\n",
       "      <td>Office Supplies</td>\n",
       "      <td>Paper</td>\n",
       "      <td>29.6000</td>\n",
       "      <td>4</td>\n",
       "      <td>0.00</td>\n",
       "      <td>13.3200</td>\n",
       "    </tr>\n",
       "    <tr>\n",
       "      <th>9993</th>\n",
       "      <td>Second Class</td>\n",
       "      <td>Consumer</td>\n",
       "      <td>Westminster</td>\n",
       "      <td>California</td>\n",
       "      <td>West</td>\n",
       "      <td>Office Supplies</td>\n",
       "      <td>Appliances</td>\n",
       "      <td>243.1600</td>\n",
       "      <td>2</td>\n",
       "      <td>0.00</td>\n",
       "      <td>72.9480</td>\n",
       "    </tr>\n",
       "  </tbody>\n",
       "</table>\n",
       "<p>9944 rows × 11 columns</p>\n",
       "</div>"
      ],
      "text/plain": [
       "           Ship Mode    Segment             City       State Region  \\\n",
       "0       Second Class   Consumer        Henderson    Kentucky  South   \n",
       "1       Second Class   Consumer        Henderson    Kentucky  South   \n",
       "2       Second Class  Corporate      Los Angeles  California   West   \n",
       "3     Standard Class   Consumer  Fort Lauderdale     Florida  South   \n",
       "4     Standard Class   Consumer  Fort Lauderdale     Florida  South   \n",
       "...              ...        ...              ...         ...    ...   \n",
       "9989    Second Class   Consumer            Miami     Florida  South   \n",
       "9990  Standard Class   Consumer       Costa Mesa  California   West   \n",
       "9991  Standard Class   Consumer       Costa Mesa  California   West   \n",
       "9992  Standard Class   Consumer       Costa Mesa  California   West   \n",
       "9993    Second Class   Consumer      Westminster  California   West   \n",
       "\n",
       "             Category Sub-Category     Sales  Quantity  Discount    Profit  \n",
       "0           Furniture    Bookcases  261.9600         2      0.00   41.9136  \n",
       "1           Furniture       Chairs  731.9400         3      0.00  219.5820  \n",
       "2     Office Supplies       Labels   14.6200         2      0.00    6.8714  \n",
       "3           Furniture       Tables  957.5775         5      0.45 -383.0310  \n",
       "4     Office Supplies      Storage   22.3680         2      0.20    2.5164  \n",
       "...               ...          ...       ...       ...       ...       ...  \n",
       "9989        Furniture  Furnishings   25.2480         3      0.20    4.1028  \n",
       "9990        Furniture  Furnishings   91.9600         2      0.00   15.6332  \n",
       "9991       Technology       Phones  258.5760         2      0.20   19.3932  \n",
       "9992  Office Supplies        Paper   29.6000         4      0.00   13.3200  \n",
       "9993  Office Supplies   Appliances  243.1600         2      0.00   72.9480  \n",
       "\n",
       "[9944 rows x 11 columns]"
      ]
     },
     "execution_count": 12,
     "metadata": {},
     "output_type": "execute_result"
    }
   ],
   "source": [
    "# dropping all the duplicates\n",
    "data.drop_duplicates()"
   ]
  },
  {
   "cell_type": "markdown",
   "id": "923da02e",
   "metadata": {},
   "source": [
    "### Data Visualization"
   ]
  },
  {
   "cell_type": "code",
   "execution_count": 13,
   "id": "c1d6877f",
   "metadata": {},
   "outputs": [
    {
     "data": {
      "text/plain": [
       "<AxesSubplot:>"
      ]
     },
     "execution_count": 13,
     "metadata": {},
     "output_type": "execute_result"
    },
    {
     "data": {
      "image/png": "[encoded data removed]",
      "text/plain": [
       "<Figure size 432x288 with 2 Axes>"
      ]
     },
     "metadata": {
      "needs_background": "light"
     },
     "output_type": "display_data"
    }
   ],
   "source": [
    "sns.heatmap(data.corr() , annot = True)"
   ]
  },
  {
   "cell_type": "raw",
   "id": "c7b627df",
   "metadata": {},
   "source": [
    "Correlation tells that how change in one variables affects the other variable. in this heatmap, the lightest part shows the maximum corr darkest side shows the no corr or negative corr."
   ]
  },
  {
   "cell_type": "markdown",
   "id": "826898b5",
   "metadata": {},
   "source": [
    "## Plotting graph against Order"
   ]
  },
  {
   "cell_type": "markdown",
   "id": "8a17ed65",
   "metadata": {},
   "source": [
    "### 1) Order VS Segment"
   ]
  },
  {
   "cell_type": "code",
   "execution_count": 14,
   "id": "a986cf69",
   "metadata": {},
   "outputs": [
    {
     "name": "stderr",
     "output_type": "stream",
     "text": [
      "C:\\Users\\User\\Anaconda\\lib\\site-packages\\seaborn\\_decorators.py:36: FutureWarning: Pass the following variable as a keyword arg: x. From version 0.12, the only valid positional argument will be `data`, and passing other arguments without an explicit keyword will result in an error or misinterpretation.\n",
      "  warnings.warn(\n"
     ]
    },
    {
     "data": {
      "text/plain": [
       "<AxesSubplot:xlabel='Segment', ylabel='count'>"
      ]
     },
     "execution_count": 14,
     "metadata": {},
     "output_type": "execute_result"
    },
    {
     "data": {
      "image/png": "[encoded data removed]",
      "text/plain": [
       "<Figure size 432x288 with 1 Axes>"
      ]
     },
     "metadata": {
      "needs_background": "light"
     },
     "output_type": "display_data"
    }
   ],
   "source": [
    "sns.countplot(data['Segment'])"
   ]
  },
  {
   "cell_type": "raw",
   "id": "10cbac8b",
   "metadata": {},
   "source": [
    "Consumer Segment >> Corporate Segment >> Home office"
   ]
  },
  {
   "cell_type": "markdown",
   "id": "eb6d823b",
   "metadata": {},
   "source": [
    "### 2) Order VS Category"
   ]
  },
  {
   "cell_type": "code",
   "execution_count": 15,
   "id": "758314f0",
   "metadata": {},
   "outputs": [
    {
     "name": "stderr",
     "output_type": "stream",
     "text": [
      "C:\\Users\\User\\Anaconda\\lib\\site-packages\\seaborn\\_decorators.py:36: FutureWarning: Pass the following variable as a keyword arg: x. From version 0.12, the only valid positional argument will be `data`, and passing other arguments without an explicit keyword will result in an error or misinterpretation.\n",
      "  warnings.warn(\n"
     ]
    },
    {
     "data": {
      "text/plain": [
       "<AxesSubplot:xlabel='Category', ylabel='count'>"
      ]
     },
     "execution_count": 15,
     "metadata": {},
     "output_type": "execute_result"
    },
    {
     "data": {
      "image/png": "[encoded data removed]",
      "text/plain": [
       "<Figure size 432x288 with 1 Axes>"
      ]
     },
     "metadata": {
      "needs_background": "light"
     },
     "output_type": "display_data"
    }
   ],
   "source": [
    "sns.countplot(data['Category'])"
   ]
  },
  {
   "cell_type": "raw",
   "id": "c9667219",
   "metadata": {},
   "source": [
    "1) Most of the orders are from Office Supplies Category.\n",
    "2) Furniture and Technology have almost same no of orders, have the slightest difference. Hence, we have to increase orders in    these categories."
   ]
  },
  {
   "cell_type": "markdown",
   "id": "1ea8b094",
   "metadata": {},
   "source": [
    "### 3) Order VS Region"
   ]
  },
  {
   "cell_type": "code",
   "execution_count": 16,
   "id": "67fdf8cc",
   "metadata": {},
   "outputs": [
    {
     "name": "stderr",
     "output_type": "stream",
     "text": [
      "C:\\Users\\User\\Anaconda\\lib\\site-packages\\seaborn\\_decorators.py:36: FutureWarning: Pass the following variable as a keyword arg: x. From version 0.12, the only valid positional argument will be `data`, and passing other arguments without an explicit keyword will result in an error or misinterpretation.\n",
      "  warnings.warn(\n"
     ]
    },
    {
     "data": {
      "text/plain": [
       "<AxesSubplot:xlabel='Region', ylabel='count'>"
      ]
     },
     "execution_count": 16,
     "metadata": {},
     "output_type": "execute_result"
    },
    {
     "data": {
      "image/png": "[encoded data removed]",
      "text/plain": [
       "<Figure size 432x288 with 1 Axes>"
      ]
     },
     "metadata": {
      "needs_background": "light"
     },
     "output_type": "display_data"
    }
   ],
   "source": [
    "sns.countplot(data['Region'])"
   ]
  },
  {
   "cell_type": "raw",
   "id": "a32c5814",
   "metadata": {},
   "source": [
    "West >> East >> Central >> South"
   ]
  },
  {
   "cell_type": "markdown",
   "id": "80300965",
   "metadata": {},
   "source": [
    "### 4) Order VS Ship Mode"
   ]
  },
  {
   "cell_type": "code",
   "execution_count": 21,
   "id": "d76c854e",
   "metadata": {},
   "outputs": [
    {
     "name": "stderr",
     "output_type": "stream",
     "text": [
      "C:\\Users\\User\\Anaconda\\lib\\site-packages\\seaborn\\_decorators.py:36: FutureWarning: Pass the following variable as a keyword arg: x. From version 0.12, the only valid positional argument will be `data`, and passing other arguments without an explicit keyword will result in an error or misinterpretation.\n",
      "  warnings.warn(\n"
     ]
    },
    {
     "data": {
      "text/plain": [
       "<AxesSubplot:xlabel='Ship Mode', ylabel='count'>"
      ]
     },
     "execution_count": 21,
     "metadata": {},
     "output_type": "execute_result"
    },
    {
     "data": {
      "image/png": "[encoded data removed]",
      "text/plain": [
       "<Figure size 432x288 with 1 Axes>"
      ]
     },
     "metadata": {
      "needs_background": "light"
     },
     "output_type": "display_data"
    }
   ],
   "source": [
    "sns.countplot(data['Ship Mode'])"
   ]
  },
  {
   "cell_type": "raw",
   "id": "562a4db3",
   "metadata": {},
   "source": [
    "As we can see most of the people order from Standard Class and least are from the same day."
   ]
  },
  {
   "cell_type": "markdown",
   "id": "058161e5",
   "metadata": {},
   "source": [
    "### 5) Order VS Sub-Category"
   ]
  },
  {
   "cell_type": "code",
   "execution_count": 32,
   "id": "16f732b8",
   "metadata": {},
   "outputs": [
    {
     "name": "stderr",
     "output_type": "stream",
     "text": [
      "C:\\Users\\User\\Anaconda\\lib\\site-packages\\seaborn\\_decorators.py:36: FutureWarning: Pass the following variable as a keyword arg: x. From version 0.12, the only valid positional argument will be `data`, and passing other arguments without an explicit keyword will result in an error or misinterpretation.\n",
      "  warnings.warn(\n"
     ]
    },
    {
     "data": {
      "text/plain": [
       "<AxesSubplot:title={'center':'ORDER VS SUB-CATEGORY'}, xlabel='Sub-Category', ylabel='count'>"
      ]
     },
     "execution_count": 32,
     "metadata": {},
     "output_type": "execute_result"
    },
    {
     "data": {
      "image/png": "[encoded data removed]",
      "text/plain": [
       "<Figure size 1296x360 with 1 Axes>"
      ]
     },
     "metadata": {
      "needs_background": "light"
     },
     "output_type": "display_data"
    }
   ],
   "source": [
    "plt.figure(figsize = (18,5))\n",
    "sns.countplot(data['Sub-Category'])"
   ]
  },
  {
   "cell_type": "raw",
   "id": "4b386289",
   "metadata": {},
   "source": [
    "Papers and binders are the most ordered supplies and copiers are the least supplied. Need to work on least supplies to increase the supplies."
   ]
  },
  {
   "cell_type": "markdown",
   "id": "6736d573",
   "metadata": {},
   "source": [
    "### 6) Order VS State"
   ]
  },
  {
   "cell_type": "code",
   "execution_count": 29,
   "id": "a41c8d58",
   "metadata": {},
   "outputs": [
    {
     "name": "stderr",
     "output_type": "stream",
     "text": [
      "C:\\Users\\User\\Anaconda\\lib\\site-packages\\seaborn\\_decorators.py:36: FutureWarning: Pass the following variable as a keyword arg: x. From version 0.12, the only valid positional argument will be `data`, and passing other arguments without an explicit keyword will result in an error or misinterpretation.\n",
      "  warnings.warn(\n"
     ]
    },
    {
     "data": {
      "text/plain": [
       "(array([ 0,  1,  2,  3,  4,  5,  6,  7,  8,  9, 10, 11, 12, 13, 14, 15, 16,\n",
       "        17, 18, 19, 20, 21, 22, 23, 24, 25, 26, 27, 28, 29, 30, 31, 32, 33,\n",
       "        34, 35, 36, 37, 38, 39, 40, 41, 42, 43, 44, 45, 46, 47, 48]),\n",
       " [Text(0, 0, 'California'),\n",
       "  Text(1, 0, 'New York'),\n",
       "  Text(2, 0, 'Texas'),\n",
       "  Text(3, 0, 'Pennsylvania'),\n",
       "  Text(4, 0, 'Washington'),\n",
       "  Text(5, 0, 'Illinois'),\n",
       "  Text(6, 0, 'Ohio'),\n",
       "  Text(7, 0, 'Florida'),\n",
       "  Text(8, 0, 'Michigan'),\n",
       "  Text(9, 0, 'North Carolina'),\n",
       "  Text(10, 0, 'Arizona'),\n",
       "  Text(11, 0, 'Virginia'),\n",
       "  Text(12, 0, 'Georgia'),\n",
       "  Text(13, 0, 'Tennessee'),\n",
       "  Text(14, 0, 'Colorado'),\n",
       "  Text(15, 0, 'Indiana'),\n",
       "  Text(16, 0, 'Kentucky'),\n",
       "  Text(17, 0, 'Massachusetts'),\n",
       "  Text(18, 0, 'New Jersey'),\n",
       "  Text(19, 0, 'Oregon'),\n",
       "  Text(20, 0, 'Wisconsin'),\n",
       "  Text(21, 0, 'Maryland'),\n",
       "  Text(22, 0, 'Delaware'),\n",
       "  Text(23, 0, 'Minnesota'),\n",
       "  Text(24, 0, 'Connecticut'),\n",
       "  Text(25, 0, 'Oklahoma'),\n",
       "  Text(26, 0, 'Missouri'),\n",
       "  Text(27, 0, 'Alabama'),\n",
       "  Text(28, 0, 'Arkansas'),\n",
       "  Text(29, 0, 'Rhode Island'),\n",
       "  Text(30, 0, 'Mississippi'),\n",
       "  Text(31, 0, 'Utah'),\n",
       "  Text(32, 0, 'Louisiana'),\n",
       "  Text(33, 0, 'South Carolina'),\n",
       "  Text(34, 0, 'Nevada'),\n",
       "  Text(35, 0, 'Nebraska'),\n",
       "  Text(36, 0, 'New Mexico'),\n",
       "  Text(37, 0, 'Iowa'),\n",
       "  Text(38, 0, 'New Hampshire'),\n",
       "  Text(39, 0, 'Kansas'),\n",
       "  Text(40, 0, 'Idaho'),\n",
       "  Text(41, 0, 'Montana'),\n",
       "  Text(42, 0, 'South Dakota'),\n",
       "  Text(43, 0, 'Vermont'),\n",
       "  Text(44, 0, 'District of Columbia'),\n",
       "  Text(45, 0, 'Maine'),\n",
       "  Text(46, 0, 'North Dakota'),\n",
       "  Text(47, 0, 'West Virginia'),\n",
       "  Text(48, 0, 'Wyoming')])"
      ]
     },
     "execution_count": 29,
     "metadata": {},
     "output_type": "execute_result"
    },
    {
     "data": {
      "image/png": "[encoded data removed]",
      "text/plain": [
       "<Figure size 1800x576 with 1 Axes>"
      ]
     },
     "metadata": {
      "needs_background": "light"
     },
     "output_type": "display_data"
    }
   ],
   "source": [
    "plt.figure(figsize = (25,8))\n",
    "plt.title('ORDER VS STATE')\n",
    "sns.countplot(data['State'], order = data['State'].value_counts().index)\n",
    "plt.xticks(rotation = 90)"
   ]
  },
  {
   "cell_type": "raw",
   "id": "e843b708",
   "metadata": {},
   "source": [
    "1) California has the highest no of orders.\n",
    "2) New york has more than half the no of orders as California.\n",
    "3) Have to work on Wyoming to increase the orders as it has nil value."
   ]
  },
  {
   "cell_type": "markdown",
   "id": "bb5fb674",
   "metadata": {},
   "source": [
    "## Plotting graph against Sales"
   ]
  },
  {
   "cell_type": "markdown",
   "id": "9cda292c",
   "metadata": {},
   "source": [
    "### 1) Category VS Sales"
   ]
  },
  {
   "cell_type": "code",
   "execution_count": 35,
   "id": "4e09eb8d",
   "metadata": {},
   "outputs": [
    {
     "data": {
      "text/plain": [
       "Text(0, 0.5, 'SALES')"
      ]
     },
     "execution_count": 35,
     "metadata": {},
     "output_type": "execute_result"
    },
    {
     "data": {
      "image/png": "[encoded data removed]",
      "text/plain": [
       "<Figure size 720x432 with 1 Axes>"
      ]
     },
     "metadata": {
      "needs_background": "light"
     },
     "output_type": "display_data"
    }
   ],
   "source": [
    "plt.figure(figsize = (10,6))\n",
    "plt.title('CATEGORY VS SALES')\n",
    "plt.bar('Category' , 'Sales' , data = data)\n",
    "plt.xlabel('CATEGORY')\n",
    "plt.ylabel('SALES')"
   ]
  },
  {
   "cell_type": "raw",
   "id": "e189b0de",
   "metadata": {},
   "source": [
    "1) Technology has the highest sale but its orders are the least.\n",
    "2) Office Supplies has the highest orders but its sale is just the half of Technology."
   ]
  },
  {
   "cell_type": "markdown",
   "id": "0231a441",
   "metadata": {},
   "source": [
    "### 2) Sub-Category VS Sales"
   ]
  },
  {
   "cell_type": "code",
   "execution_count": 49,
   "id": "a56d8060",
   "metadata": {},
   "outputs": [
    {
     "data": {
      "text/plain": [
       "Text(0, 0.5, 'SALES')"
      ]
     },
     "execution_count": 49,
     "metadata": {},
     "output_type": "execute_result"
    },
    {
     "data": {
      "image/png": "[encoded data removed]",
      "text/plain": [
       "<Figure size 1440x432 with 1 Axes>"
      ]
     },
     "metadata": {
      "needs_background": "light"
     },
     "output_type": "display_data"
    }
   ],
   "source": [
    "plt.figure(figsize = (20,6))\n",
    "plt.title('SUB-CATEGORY VS SALES')\n",
    "plt.bar('Sub-Category' , 'Sales' , data = data , color = 'red')\n",
    "plt.xlabel('SUB-CATEGORY')\n",
    "plt.ylabel('SALES')"
   ]
  },
  {
   "cell_type": "raw",
   "id": "2b7a4ece",
   "metadata": {},
   "source": [
    "Machines and Copiers have the highest sale but similarly there orders are the least."
   ]
  },
  {
   "cell_type": "markdown",
   "id": "eb8880ae",
   "metadata": {},
   "source": [
    "### 3)  State VS Sales"
   ]
  },
  {
   "cell_type": "code",
   "execution_count": 50,
   "id": "cd7d8cfa",
   "metadata": {},
   "outputs": [
    {
     "data": {
      "text/plain": [
       "Text(0, 0.5, 'SALES')"
      ]
     },
     "execution_count": 50,
     "metadata": {},
     "output_type": "execute_result"
    },
    {
     "data": {
      "image/png": "[encoded data removed]",
      "text/plain": [
       "<Figure size 1440x432 with 1 Axes>"
      ]
     },
     "metadata": {
      "needs_background": "light"
     },
     "output_type": "display_data"
    }
   ],
   "source": [
    "plt.figure(figsize = (20,6))\n",
    "plt.title('STATE VS SALES')\n",
    "plt.bar('State' , 'Sales' , data = data , color = 'green')\n",
    "plt.xlabel('STATE')\n",
    "plt.xticks(rotation = 90)\n",
    "plt.ylabel('SALES')"
   ]
  },
  {
   "cell_type": "markdown",
   "id": "d39ef541",
   "metadata": {},
   "source": [
    "## Plotting graph against Profit\t"
   ]
  },
  {
   "cell_type": "markdown",
   "id": "7e36db28",
   "metadata": {},
   "source": [
    "### 1) Category VS Profit"
   ]
  },
  {
   "cell_type": "code",
   "execution_count": 44,
   "id": "249ce134",
   "metadata": {},
   "outputs": [
    {
     "data": {
      "text/plain": [
       "Text(0, 0.5, 'Profit')"
      ]
     },
     "execution_count": 44,
     "metadata": {},
     "output_type": "execute_result"
    },
    {
     "data": {
      "image/png": "[encoded data removed]",
      "text/plain": [
       "<Figure size 1008x432 with 1 Axes>"
      ]
     },
     "metadata": {
      "needs_background": "light"
     },
     "output_type": "display_data"
    }
   ],
   "source": [
    "plt.figure(figsize = (14,6))\n",
    "plt.title('CATEGORY VS PROFIT')\n",
    "plt.bar('Category' , 'Profit' , data = data)\n",
    "plt.xlabel('Category')\n",
    "plt.ylabel('Profit')"
   ]
  },
  {
   "cell_type": "raw",
   "id": "d50334a5",
   "metadata": {},
   "source": [
    "In all the categories profit and loses are equal"
   ]
  },
  {
   "cell_type": "markdown",
   "id": "e30e035e",
   "metadata": {},
   "source": [
    "### 2) Sub-Category VS Profit"
   ]
  },
  {
   "cell_type": "code",
   "execution_count": 53,
   "id": "8ddcea10",
   "metadata": {},
   "outputs": [
    {
     "data": {
      "text/plain": [
       "Text(0, 0.5, 'Profit')"
      ]
     },
     "execution_count": 53,
     "metadata": {},
     "output_type": "execute_result"
    },
    {
     "data": {
      "image/png": "[encoded data removed]",
      "text/plain": [
       "<Figure size 1008x432 with 1 Axes>"
      ]
     },
     "metadata": {
      "needs_background": "light"
     },
     "output_type": "display_data"
    }
   ],
   "source": [
    "plt.figure(figsize = (14,6))\n",
    "plt.title('SUB-CATEGORY VS PROFIT')\n",
    "plt.bar('Sub-Category' , 'Profit' , data = data , color = 'red')\n",
    "plt.xlabel('Sub-Category')\n",
    "plt.xticks(rotation = 90)\n",
    "plt.ylabel('Profit')"
   ]
  },
  {
   "cell_type": "markdown",
   "id": "d06f108b",
   "metadata": {},
   "source": [
    "Machines are having huge lose while copiers are having a good profit even it has least orders."
   ]
  },
  {
   "cell_type": "markdown",
   "id": "927e04ac",
   "metadata": {},
   "source": [
    "### 3) State VS Profit"
   ]
  },
  {
   "cell_type": "code",
   "execution_count": 55,
   "id": "c0ec029e",
   "metadata": {},
   "outputs": [
    {
     "data": {
      "text/plain": [
       "Text(0, 0.5, 'Profit')"
      ]
     },
     "execution_count": 55,
     "metadata": {},
     "output_type": "execute_result"
    },
    {
     "data": {
      "image/png": "[encoded data removed]",
      "text/plain": [
       "<Figure size 1440x432 with 1 Axes>"
      ]
     },
     "metadata": {
      "needs_background": "light"
     },
     "output_type": "display_data"
    }
   ],
   "source": [
    "plt.figure(figsize = (20,6))\n",
    "plt.title('STATE VS PROFIT')\n",
    "plt.bar('State' , 'Profit' , data = data , color = 'yellow')\n",
    "plt.xlabel('State')\n",
    "plt.xticks(rotation = 90)\n",
    "plt.ylabel('Profit')"
   ]
  },
  {
   "cell_type": "markdown",
   "id": "d6b5612c",
   "metadata": {},
   "source": [
    "### Plotting Profit VS Discount "
   ]
  },
  {
   "cell_type": "code",
   "execution_count": 59,
   "id": "67d7d9e4",
   "metadata": {},
   "outputs": [
    {
     "name": "stderr",
     "output_type": "stream",
     "text": [
      "C:\\Users\\User\\Anaconda\\lib\\site-packages\\seaborn\\_decorators.py:36: FutureWarning: Pass the following variables as keyword args: x, y. From version 0.12, the only valid positional argument will be `data`, and passing other arguments without an explicit keyword will result in an error or misinterpretation.\n",
      "  warnings.warn(\n"
     ]
    },
    {
     "data": {
      "text/plain": [
       "<AxesSubplot:xlabel='Discount', ylabel='Profit'>"
      ]
     },
     "execution_count": 59,
     "metadata": {},
     "output_type": "execute_result"
    },
    {
     "data": {
      "image/png": "[encoded data removed]",
      "text/plain": [
       "<Figure size 432x288 with 1 Axes>"
      ]
     },
     "metadata": {
      "needs_background": "light"
     },
     "output_type": "display_data"
    }
   ],
   "source": [
    "sns.lineplot(data['Discount'] , data['Profit'])"
   ]
  },
  {
   "cell_type": "raw",
   "id": "6123470f",
   "metadata": {},
   "source": [
    "Discount increases, profit decreases."
   ]
  },
  {
   "cell_type": "markdown",
   "id": "e1394c89",
   "metadata": {},
   "source": [
    "### Plotting Quantity VS Profit"
   ]
  },
  {
   "cell_type": "code",
   "execution_count": 61,
   "id": "7a5171fa",
   "metadata": {},
   "outputs": [
    {
     "name": "stderr",
     "output_type": "stream",
     "text": [
      "C:\\Users\\User\\Anaconda\\lib\\site-packages\\seaborn\\_decorators.py:36: FutureWarning: Pass the following variables as keyword args: x, y. From version 0.12, the only valid positional argument will be `data`, and passing other arguments without an explicit keyword will result in an error or misinterpretation.\n",
      "  warnings.warn(\n"
     ]
    },
    {
     "data": {
      "text/plain": [
       "<AxesSubplot:xlabel='Quantity', ylabel='Profit'>"
      ]
     },
     "execution_count": 61,
     "metadata": {},
     "output_type": "execute_result"
    },
    {
     "data": {
      "image/png": "[encoded data removed]",
      "text/plain": [
       "<Figure size 432x288 with 1 Axes>"
      ]
     },
     "metadata": {
      "needs_background": "light"
     },
     "output_type": "display_data"
    }
   ],
   "source": [
    "sns.scatterplot(data['Quantity'] , data['Profit'])"
   ]
  },
  {
   "cell_type": "raw",
   "id": "675ef730",
   "metadata": {},
   "source": [
    "Hence the conclusion is , If we increase the quantity eventually profit will also increase. So we have to increase the no of orders to increase the profit."
   ]
  },
  {
   "cell_type": "code",
   "execution_count": null,
   "id": "6df3bca0",
   "metadata": {},
   "outputs": [],
   "source": [
    " "
   ]
  }
 ],
 "metadata": {
  "kernelspec": {
   "display_name": "Python 3",
   "language": "python",
   "name": "python3"
  },
  "language_info": {
   "codemirror_mode": {
    "name": "ipython",
    "version": 3
   },
   "file_extension": ".py",
   "mimetype": "text/x-python",
   "name": "python",
   "nbconvert_exporter": "python",
   "pygments_lexer": "ipython3",
   "version": "3.8.8"
  }
 },
 "nbformat": 4,
 "nbformat_minor": 5
}
